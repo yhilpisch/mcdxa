{
 "cells": [
  {
   "cell_type": "markdown",
   "id": "e32fba29-1962-446c-97fd-476e05aa155a",
   "metadata": {},
   "source": [
    "<img src=\"http://hilpisch.com/tpq_logo.png\" alt=\"The Python Quants\" width=\"35%\" align=\"right\" border=\"0\"><br>"
   ]
  },
  {
   "cell_type": "markdown",
   "id": "2f1c8a9f",
   "metadata": {},
   "source": [
    "# mcdxa Package Tutorial\n",
    "\n",
    "This notebook demonstrates how to use the **mcdxa** package for option pricing.\n"
   ]
  },
  {
   "cell_type": "code",
   "execution_count": null,
   "id": "1e4ad6e6-89f2-4750-b5c6-2d1797ed67ad",
   "metadata": {},
   "outputs": [],
   "source": [
    "import numpy as np\n",
    "import matplotlib.pyplot as plt\n",
    "plt.style.use('seaborn-v0_8')\n",
    "%config InlineBackend.figure_format = 'svg'"
   ]
  },
  {
   "cell_type": "code",
   "execution_count": null,
   "id": "ad9403b3-23da-44fa-95f2-b9a9f50b1e74",
   "metadata": {},
   "outputs": [],
   "source": [
    "import sys\n",
    "sys.path.append('..')"
   ]
  },
  {
   "cell_type": "code",
   "execution_count": null,
   "id": "24f3cb5a-6343-4785-9ccd-9f14731d2df0",
   "metadata": {},
   "outputs": [],
   "source": [
    "from mcdxa.models import BSM, Heston, Merton, Bates\n",
    "from mcdxa.payoffs import CallPayoff, PutPayoff, AsianCallPayoff, CustomPayoff\n",
    "from mcdxa.pricers.european import EuropeanPricer\n",
    "from mcdxa.pricers.american import AmericanBinomialPricer, LongstaffSchwartzPricer\n",
    "from mcdxa.analytics import bsm_price"
   ]
  },
  {
   "cell_type": "markdown",
   "id": "b828bccd",
   "metadata": {},
   "source": [
    "## Payoff Examples\n"
   ]
  },
  {
   "cell_type": "code",
   "execution_count": null,
   "id": "52204e91",
   "metadata": {},
   "outputs": [],
   "source": [
    "K = 100\n",
    "spots = [80, 100, 120]\n",
    "call = CallPayoff(K)\n",
    "put = PutPayoff(K)\n",
    "print('Call payoff:', call(spots))\n",
    "print('Put payoff :', put(spots))"
   ]
  },
  {
   "cell_type": "markdown",
   "id": "7f71ebef",
   "metadata": {},
   "source": [
    "## Custom Payoff\n"
   ]
  },
  {
   "cell_type": "code",
   "execution_count": null,
   "id": "01cf75cf",
   "metadata": {},
   "outputs": [],
   "source": [
    "sqrt_call = CustomPayoff(lambda s: np.maximum(np.sqrt(s) - 9, 0))\n",
    "spots = [81, 100, 121]\n",
    "print('Custom sqrt call payoff:', sqrt_call(spots))"
   ]
  },
  {
   "cell_type": "markdown",
   "id": "133e2577",
   "metadata": {},
   "source": [
    "## Path-dependent Payoff (Asian)\n"
   ]
  },
  {
   "cell_type": "code",
   "execution_count": null,
   "id": "ca67cbb6",
   "metadata": {},
   "outputs": [],
   "source": [
    "paths = np.array([[90, 110, 130], [120, 100, 80]])\n",
    "asian_call = AsianCallPayoff(100)\n",
    "print('Asian call payoff on sample paths:', asian_call(paths))"
   ]
  },
  {
   "cell_type": "markdown",
   "id": "bdb6355e",
   "metadata": {},
   "source": [
    "## Simulate and Plot BSM Paths\n"
   ]
  },
  {
   "cell_type": "code",
   "execution_count": null,
   "id": "5bcc0e6d",
   "metadata": {},
   "outputs": [],
   "source": [
    "model = BSM(r=0.05, sigma=0.2)\n",
    "paths = model.simulate(100, 1, n_paths=5, n_steps=50)\n",
    "plt.figure(figsize=(8,4))\n",
    "for i, path in enumerate(paths):\n",
    "    plt.plot(path, label=f'Path {i}')\n",
    "plt.legend(); plt.title('BSM Sample Paths'); plt.xlabel('Step'); plt.ylabel('Price')\n",
    "plt.show()"
   ]
  },
  {
   "cell_type": "markdown",
   "id": "935790bc",
   "metadata": {},
   "source": [
    "## European Option Pricing via Monte Carlo\n"
   ]
  },
  {
   "cell_type": "code",
   "execution_count": null,
   "id": "848d3e75",
   "metadata": {},
   "outputs": [],
   "source": [
    "model = BSM(r=0.05, sigma=0.2)\n",
    "payoff = CallPayoff(100)\n",
    "pricer = EuropeanPricer(model, payoff, n_paths=5000, n_steps=50, seed=42)\n",
    "price_mc, stderr = pricer.price(100, 1, 0.05)\n",
    "price_bs = bsm_price(100, 100, 1, 0.05, 0.2, option_type='call')\n",
    "print(f'MC price: {price_mc:.4f} ± {stderr:.4f}, BSM price: {price_bs:.4f}')"
   ]
  },
  {
   "cell_type": "markdown",
   "id": "e06c5c8a",
   "metadata": {},
   "source": [
    "## American Option Pricing\n"
   ]
  },
  {
   "cell_type": "code",
   "execution_count": null,
   "id": "9aa98105",
   "metadata": {},
   "outputs": [],
   "source": [
    "amer = AmericanBinomialPricer(model, CallPayoff(100), n_steps=100)\n",
    "price_amer = amer.price(100, 1, 0.05)\n",
    "print('CRR American call price:', price_amer)\n",
    "lsm = LongstaffSchwartzPricer(model, PutPayoff(100), n_paths=5000, n_steps=50, seed=42)\n",
    "price_lsm, stderr_lsm = lsm.price(90, 1, 0.05)\n",
    "print(f'LSM American put price: {price_lsm:.4f} ± {stderr_lsm:.4f}')"
   ]
  },
  {
   "cell_type": "markdown",
   "id": "29b7acf4-7d13-4a6c-8932-b9d6841ac3ce",
   "metadata": {},
   "source": [
    "<img src=\"http://hilpisch.com/tpq_logo.png\" alt=\"The Python Quants\" width=\"35%\" align=\"right\" border=\"0\"><br>"
   ]
  }
 ],
 "metadata": {
  "kernelspec": {
   "display_name": "Python 3 (ipykernel)",
   "language": "python",
   "name": "python3"
  },
  "language_info": {
   "codemirror_mode": {
    "name": "ipython",
    "version": 3
   },
   "file_extension": ".py",
   "mimetype": "text/x-python",
   "name": "python",
   "nbconvert_exporter": "python",
   "pygments_lexer": "ipython3",
   "version": "3.12.2"
  }
 },
 "nbformat": 4,
 "nbformat_minor": 5
}
